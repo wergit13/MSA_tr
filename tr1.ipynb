{
 "cells": [
  {
   "cell_type": "code",
   "execution_count": null,
   "metadata": {},
   "outputs": [],
   "source": [
    "import numpy as np\n",
    "import scipy.stats as sps\n",
    "import pandas as pd\n",
    "import matplotlib\n",
    "import matplotlib.pyplot as plt\n",
    "from IPython.display import display\n",
    "dtype = np.float64\n",
    "from printmd import  *\n",
    "float_formatter = \"{:.4f}\".format\n",
    "np.set_printoptions(formatter={'float_kind':float_formatter})"
   ]
  },
  {
   "cell_type": "markdown",
   "metadata": {},
   "source": [
    "## Типовой расчет по предмету МСА. Часть 1\n",
    "### Остромецкий Дмитрий Вариант 15\n",
    "**Выборка 1**"
   ]
  },
  {
   "cell_type": "code",
   "execution_count": null,
   "metadata": {},
   "outputs": [],
   "source": [
    "k = 15\n",
    "sample_size = 20\n",
    "def Y_l(i, j):\n",
    "    i+=1\n",
    "    j+=1\n",
    "    return  i / (i + j)\n",
    "\n",
    "def Y_b(j):\n",
    "    j+=1\n",
    "    return j * (k + 1) / k\n",
    "\n",
    "Y_linear = np.fromfunction(Y_l, (4, 4), dtype=dtype)\n",
    "Y_bias = np.fromfunction(Y_b, (4,), dtype=dtype)\n",
    "Y = np.matmul(sps.norm.rvs(size=(sample_size, 4)), Y_linear) + Y_bias\n",
    "pd.DataFrame(Y, columns=['y(1)', 'y(2)', 'y(4)', 'y(4)'])"
   ]
  },
  {
   "cell_type": "markdown",
   "metadata": {},
   "source": [
    "**Выборка 2**"
   ]
  },
  {
   "cell_type": "code",
   "execution_count": null,
   "metadata": {},
   "outputs": [],
   "source": [
    "def X_l(i, j):\n",
    "    i+=1\n",
    "    j+=1\n",
    "    return  (i + 1)  / (i + j + 1)\n",
    "\n",
    "def X_b(j):\n",
    "    j+=1\n",
    "    return j * (k + 3) / k\n",
    "\n",
    "X_linear = np.fromfunction(Y_l, (4, 4), dtype=dtype)\n",
    "X_bias = np.fromfunction(Y_b, (4,), dtype=dtype)\n",
    "X = np.matmul(sps.norm.rvs(size=(sample_size, 4)), Y_linear) + Y_bias\n",
    "pd.DataFrame(Y, columns=['x(1)', 'x(2)', 'x(4)', 'x(4)'])"
   ]
  },
  {
   "cell_type": "markdown",
   "metadata": {},
   "source": [
    "1. **Найти векторы из оценок средних для обеих выборок**"
   ]
  },
  {
   "cell_type": "code",
   "execution_count": null,
   "metadata": {},
   "outputs": [],
   "source": [
    "Y_m = Y.mean(axis=0)\n",
    "X_m = X.mean(axis=0)\n",
    "Y_D = np.cov(Y.T)\n",
    "l, e = np.linalg.eig(Y_D)\n",
    "\n",
    "display(mdVector(\"\\\\hat{\\\\mu}_X\", X_m))\n",
    "display(mdVector(\"\\\\hat{\\\\mu}_Y\", Y_m))"
   ]
  },
  {
   "cell_type": "markdown",
   "metadata": {},
   "source": [
    "2. **Для элементов первой выборки найти первую и вторую главные\n",
    "компоненты**"
   ]
  },
  {
   "cell_type": "code",
   "execution_count": null,
   "metadata": {},
   "outputs": [],
   "source": [
    "Y_D = np.cov(Y.T)\n",
    "display(mdMatrix( \"\\\\hat{D}_Y\", Y_D))"
   ]
  },
  {
   "cell_type": "code",
   "execution_count": null,
   "metadata": {},
   "outputs": [],
   "source": [
    "l, e = np.linalg.eig(Y_D)\n",
    "plt.plot(range(len(l)), l / l.sum(), 'o-', linewidth=2, color='blue')\n",
    "plt.title('Scree Plot')\n",
    "plt.xlabel('Principal Component')\n",
    "plt.ylabel('Variance Explained')\n",
    "plt.show()"
   ]
  },
  {
   "cell_type": "code",
   "execution_count": null,
   "metadata": {},
   "outputs": [],
   "source": [
    "pc1 = np.matmul(Y - Y_m, e[0].T)\n",
    "plt.hist(np.matmul(Y - Y_m, e[0]), bins=5, density=True)\n",
    "plt.show()\n",
    "print(np.sort(pc1))"
   ]
  },
  {
   "cell_type": "code",
   "execution_count": null,
   "metadata": {},
   "outputs": [],
   "source": [
    "pc3 = np.matmul(Y - Y_m, e[2].T)\n",
    "plt.scatter(pc1, pc3)\n",
    "plt.xlabel(\"Principal component 1\")\n",
    "plt.ylabel(\"Principal component 3\")\n",
    "plt.show()"
   ]
  },
  {
   "cell_type": "markdown",
   "metadata": {},
   "source": [
    "3. **Для второй выборки найти линейную комбинацию центрированных 2-ой, 3-ей, 4-ой компонент x(2), x(3), x(4), имеющую наибольший коэффициент корреляции с центрированной первой компонентой x(1).**"
   ]
  },
  {
   "cell_type": "code",
   "execution_count": null,
   "metadata": {},
   "outputs": [],
   "source": [
    "X_center = X - X_m\n",
    "X_std = np.power(np.cov(X.T).diagonal(), 1/2)\n",
    "\n",
    "X_norm = X_center / X_std\n",
    "# np.cov(X_norm.T)\n"
   ]
  },
  {
   "cell_type": "code",
   "execution_count": null,
   "metadata": {},
   "outputs": [],
   "source": [
    "from sklearn.cross_decomposition import CCA\n",
    "X_norm[ :,:1]\n",
    "cca = CCA(n_components=1)\n",
    "cca.fit(X_norm[ :,:1], X_norm[ :,1:])\n",
    "X_c, Y_c = cca.transform(X_norm[ :,:1], X_norm[ :,1:])\n",
    "display(mdVector(\"\\\\vec{\\\\lambda}\", cca.x_rotations_.ravel()))\n",
    "display(mdVector(\"\\\\vec{\\\\beta}\", cca.y_rotations_.ravel()))\n",
    "plt.scatter(X_c, Y_c)\n",
    "plt.xlabel(r\"$\\vec{v}$\")\n",
    "plt.ylabel(r\"$\\vec{u}$\")\n",
    "plt.show()\n"
   ]
  },
  {
   "cell_type": "markdown",
   "metadata": {},
   "source": [
    "4. **Объединить обе выборки в одну выборку, вставив вторую выборку под первой выборкой (x(1) под y(1) и т.д.). Получить выборку объема 40.**"
   ]
  },
  {
   "cell_type": "code",
   "execution_count": null,
   "metadata": {},
   "outputs": [],
   "source": [
    "G = np.vstack((Y, X))\n",
    "Z = np.ones((sample_size * 2, 2))\n",
    "Z[sample_size:, 1] = 2\n",
    "\n",
    "pd.DataFrame(G, columns=['g(1)', 'g(2)', 'g(4)', 'g(4)'])"
   ]
  },
  {
   "cell_type": "markdown",
   "metadata": {},
   "source": [
    "5. **Оценить параметры линейной регрессии $E\\vec{\\gamma} = B\\vec{z} = B\\begin{pmatrix} 1 \\\\ z \\end{pmatrix}$, где $B$ – матрица нагрузок порядка (4х2).**"
   ]
  }
 ],
 "metadata": {
  "kernelspec": {
   "display_name": "myenv",
   "language": "python",
   "name": "python3"
  },
  "language_info": {
   "codemirror_mode": {
    "name": "ipython",
    "version": 3
   },
   "file_extension": ".py",
   "mimetype": "text/x-python",
   "name": "python",
   "nbconvert_exporter": "python",
   "pygments_lexer": "ipython3",
   "version": "3.12.2"
  }
 },
 "nbformat": 4,
 "nbformat_minor": 2
}
