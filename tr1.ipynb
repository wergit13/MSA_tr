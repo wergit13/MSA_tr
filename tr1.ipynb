{
 "cells": [
  {
   "cell_type": "code",
   "execution_count": null,
   "metadata": {},
   "outputs": [],
   "source": [
    "%matplotlib inline\n",
    "import numpy as np\n",
    "import scipy.stats as sps\n",
    "import pandas as pd\n",
    "import matplotlib\n",
    "import matplotlib.pyplot as plt\n",
    "from IPython.display import display\n",
    "dtype = np.float64\n",
    "from printmd import  *\n",
    "float_formatter = \"{:.4f}\".format\n",
    "np.set_printoptions(formatter={'float_kind':float_formatter})\n",
    "k = 15\n",
    "sample_size = 20"
   ]
  },
  {
   "cell_type": "markdown",
   "metadata": {},
   "source": [
    "## Типовой расчет по предмету МСА. Часть 1\n",
    "### Остромецкий Дмитрий Вариант 15\n",
    "**Выборка 1**"
   ]
  },
  {
   "cell_type": "code",
   "execution_count": null,
   "metadata": {},
   "outputs": [],
   "source": [
    "def Y_l(i, j):\n",
    "    i+=1\n",
    "    j+=1\n",
    "    return  i / (i + j)\n",
    "\n",
    "def Y_b(j):\n",
    "    j+=1\n",
    "    return j * (k + 1) / k\n",
    "\n",
    "Y_linear = np.fromfunction(Y_l, (4, 4), dtype=dtype)\n",
    "Y_bias = np.fromfunction(Y_b, (4,), dtype=dtype)\n",
    "norm = sps.norm.rvs(size=(sample_size, 4))\n",
    "Y = np.matmul(norm, Y_linear.T) + Y_bias\n",
    "pd.DataFrame(Y, columns=['y(1)', 'y(2)', 'y(4)', 'y(4)'])"
   ]
  },
  {
   "cell_type": "markdown",
   "metadata": {},
   "source": [
    "**Выборка 2**"
   ]
  },
  {
   "cell_type": "code",
   "execution_count": null,
   "metadata": {},
   "outputs": [],
   "source": [
    "def X_l(i, j):\n",
    "    i+=1\n",
    "    j+=1\n",
    "    return  (i + 1)  / (i + j + 1)\n",
    "\n",
    "def X_b(j):\n",
    "    j+=1\n",
    "    return j * (k + 3) / k\n",
    "\n",
    "X_linear = np.fromfunction(X_l, (4, 4), dtype=dtype)\n",
    "X_bias = np.fromfunction(X_b, (4,), dtype=dtype)\n",
    "X = np.matmul(sps.norm.rvs(size=(sample_size, 4)), X_linear.T) + X_bias\n",
    "pd.DataFrame(Y, columns=['x(1)', 'x(2)', 'x(4)', 'x(4)'])"
   ]
  },
  {
   "cell_type": "markdown",
   "metadata": {},
   "source": [
    "1. **Найти векторы из оценок средних для обеих выборок**"
   ]
  },
  {
   "cell_type": "code",
   "execution_count": null,
   "metadata": {},
   "outputs": [],
   "source": [
    "Y_m = Y.mean(axis=0)\n",
    "X_m = X.mean(axis=0)\n",
    "\n",
    "display(mdVector(\"\\\\hat{\\\\mu}_X\", X_m))\n",
    "display(mdVector(\"\\\\hat{\\\\mu}_Y\", Y_m))"
   ]
  },
  {
   "cell_type": "markdown",
   "metadata": {},
   "source": [
    "2. **Для элементов первой выборки найти первую и вторую главные компоненты**"
   ]
  },
  {
   "cell_type": "code",
   "execution_count": null,
   "metadata": {},
   "outputs": [],
   "source": [
    "Y_D = np.cov(Y.T)\n",
    "display(mdMatrix( \"\\\\hat{D}_Y\", Y_D))"
   ]
  },
  {
   "cell_type": "code",
   "execution_count": null,
   "metadata": {},
   "outputs": [],
   "source": [
    "\n",
    "l, e = np.linalg.eig(Y_D)\n",
    "plt.plot(range(len(l)), l / l.sum(), 'o-', linewidth=2, color='blue')\n",
    "plt.title('Scree Plot')\n",
    "plt.xlabel('Principal Component')\n",
    "plt.ylabel('Variance Explained')\n",
    "plt.show()"
   ]
  },
  {
   "cell_type": "code",
   "execution_count": null,
   "metadata": {},
   "outputs": [],
   "source": [
    "pc1 = np.matmul(Y - Y_m, e[0].T)\n",
    "# plt.hist(np.matmul(Y - Y_m, e[0]), bins=5, density=True)\n",
    "# plt.show()\n",
    "print(pc1)"
   ]
  },
  {
   "cell_type": "code",
   "execution_count": null,
   "metadata": {},
   "outputs": [],
   "source": [
    "pc3 = np.matmul(Y - Y_m, e[2].T)\n",
    "plt.scatter(pc1, pc3)\n",
    "plt.xlabel(\"Principal component 1\")\n",
    "plt.ylabel(\"Principal component 3\")\n",
    "plt.show()"
   ]
  },
  {
   "cell_type": "markdown",
   "metadata": {},
   "source": [
    "3. **Для второй выборки найти линейную комбинацию центрированных 2-ой, 3-ей, 4-ой компонент x(2), x(3), x(4), имеющую наибольший коэффициент корреляции с центрированной первой компонентой x(1).**"
   ]
  },
  {
   "cell_type": "code",
   "execution_count": null,
   "metadata": {},
   "outputs": [],
   "source": [
    "X_center = X - X_m\n",
    "X_D = np.cov(X_center.T)"
   ]
  },
  {
   "cell_type": "code",
   "execution_count": null,
   "metadata": {},
   "outputs": [],
   "source": [
    "from sklearn.cross_decomposition import CCA\n",
    "\n",
    "cca = CCA(n_components=1)\n",
    "cca.fit(X_center[ :,:1], X_center[ :,1:])\n",
    "X_c, Y_c = cca.transform(X_center[ :,:1], X_center[ :,1:])\n",
    "display(mdVector(\"\\\\vec{\\\\lambda}\", cca.x_rotations_.ravel()))\n",
    "display(mdVector(\"\\\\vec{\\\\beta}\", cca.y_rotations_.ravel()))\n",
    "plt.scatter(X_c, Y_c)\n",
    "plt.xlabel(r\"$\\vec{v}$\")\n",
    "plt.ylabel(r\"$\\vec{u}$\")\n",
    "plt.show()"
   ]
  },
  {
   "cell_type": "code",
   "execution_count": null,
   "metadata": {},
   "outputs": [],
   "source": [
    "display(mdMatrix( \"\\\\hat{D}_X\", X_D))"
   ]
  },
  {
   "cell_type": "code",
   "execution_count": null,
   "metadata": {},
   "outputs": [],
   "source": [
    "alfa = cca.x_rotations_.ravel().reshape((1,1))\n",
    "beta = cca.y_rotations_.ravel().reshape((3,1))\n",
    "U_variance = alfa @ X_D[:1, :1] @ alfa\n",
    "V_variance = beta.T @ X_D[1:, 1:] @ beta\n",
    "cov = alfa @ X_D[:1, 1:] @ beta\n",
    "p = cov / ((U_variance * V_variance) ** (1/2))\n",
    "p[0][0]"
   ]
  },
  {
   "cell_type": "markdown",
   "metadata": {},
   "source": [
    "4. **Объединить обе выборки в одну выборку, вставив вторую выборку под первой выборкой (x(1) под y(1) и т.д.). Получить выборку объема 40.**"
   ]
  },
  {
   "cell_type": "code",
   "execution_count": null,
   "metadata": {},
   "outputs": [],
   "source": [
    "G = np.vstack((Y, X))\n",
    "Z = np.ones((sample_size * 2, 2))\n",
    "Z[sample_size:, 1] = 2\n",
    "\n",
    "pd.DataFrame(G, columns=['g(1)', 'g(2)', 'g(4)', 'g(4)'])"
   ]
  },
  {
   "cell_type": "markdown",
   "metadata": {},
   "source": [
    "5. **Оценить параметры линейной регрессии $E\\vec{\\gamma} = B\\vec{z} = B\\begin{pmatrix} 1 \\\\ z \\end{pmatrix}$, где $B$ – матрица нагрузок порядка (4х2).**"
   ]
  },
  {
   "cell_type": "code",
   "execution_count": null,
   "metadata": {},
   "outputs": [],
   "source": [
    "Q_gz = np.einsum(\"ki,kj->ij\", G, Z)\n",
    "Q_gg = np.einsum(\"ki,kj->ij\", G, G)\n",
    "Q_zz = np.einsum(\"ki,kj->ij\", Z, Z)\n",
    "\n",
    "B = Q_gz @ np.linalg.inv(Q_zz)\n",
    "display(mdMatrix(\"\\\\hat{B}\", B))\n",
    "D = (Q_gg - B @ Q_zz @ B.T) / (sample_size * 2)\n",
    "display(mdMatrix(\"\\\\hat{D}\", D))"
   ]
  },
  {
   "cell_type": "code",
   "execution_count": null,
   "metadata": {},
   "outputs": [],
   "source": [
    "plt.scatter(G[:sample_size,0], G[:sample_size, 1], c='#ff7f0e')\n",
    "plt.scatter(G[sample_size:,0], G[sample_size:, 1], c='#2ca02c')\n",
    "plt.show()\n"
   ]
  },
  {
   "cell_type": "markdown",
   "metadata": {},
   "source": [
    "## 2 часть\n"
   ]
  },
  {
   "cell_type": "code",
   "execution_count": null,
   "metadata": {},
   "outputs": [],
   "source": [
    "from sklearn.cluster import KMeans\n",
    "from mpl_toolkits.mplot3d import Axes3D\n",
    "from sklearn.cluster import AgglomerativeClustering\n",
    "from scipy.cluster.hierarchy import dendrogram\n",
    "from numpy.linalg import inv\n",
    "\n",
    "LABEL_COLOR_MAP = {0 : 'tab:blue',\n",
    "                   1 : 'tab:red',\n",
    "                   2 : 'tab:green',\n",
    "                   3 : 'tab:cyan',\n",
    "                   4 : 'tab:pink'\n",
    "                   }\n",
    "\n",
    "\n",
    "def create_sample(i):\n",
    "    A = np.array([\n",
    "                    [ 3 + 1/k, 0,       0      ],\n",
    "                    [1,        2 + 1/k, 0      ],\n",
    "                    [-1,       1,       1 + 1/k]\n",
    "                ])\n",
    "    norm = sps.norm.rvs(size=(sample_size, 3))\n",
    "\n",
    "    return ((A @ norm.T).T + np.full(3, i/k))\n",
    "\n",
    "def draw_clusters_3d(features, target):\n",
    "    fig = plt.figure(figsize=(9, 7))\n",
    "    ax=fig.add_subplot(111,projection='3d')\n",
    "    ax.scatter(features[:, 0], features[:, 1], features[:, 2], c=[LABEL_COLOR_MAP[l] for l in target], marker='o')\n",
    "    ax.set_xlabel(r\"$\\xi_1$\")\n",
    "    ax.set_ylabel(r\"$\\xi_2$\")\n",
    "    ax.set_zlabel(r\"$\\xi_3$\")\n",
    "    plt.show()\n"
   ]
  },
  {
   "cell_type": "markdown",
   "metadata": {},
   "source": [
    "**Задача 1**"
   ]
  },
  {
   "cell_type": "code",
   "execution_count": null,
   "metadata": {},
   "outputs": [],
   "source": [
    "n_1 = create_sample(1)\n",
    "n_2 = create_sample(2)\n",
    "n_3 = create_sample(3)\n",
    "\n",
    "n_all = np.vstack((n_1, n_2, n_3))\n",
    "n_13 = np.vstack((n_1, n_3))\n",
    "target = np.full(sample_size * 3, 0)\n",
    "target[sample_size:sample_size*2] = 1\n",
    "target[sample_size*2:] = 2\n",
    "draw_clusters_3d(n_all, target)"
   ]
  },
  {
   "cell_type": "markdown",
   "metadata": {},
   "source": [
    "**Задача 2**"
   ]
  },
  {
   "cell_type": "code",
   "execution_count": null,
   "metadata": {},
   "outputs": [],
   "source": [
    "kmeans = KMeans(n_clusters=2, random_state=0, n_init=\"auto\").fit(n_all)\n",
    "draw_clusters_3d(n_all, kmeans.labels_)"
   ]
  },
  {
   "cell_type": "markdown",
   "metadata": {},
   "source": [
    "**Задача 3**"
   ]
  },
  {
   "cell_type": "code",
   "execution_count": null,
   "metadata": {},
   "outputs": [],
   "source": [
    "kmeans = KMeans(n_clusters=5, random_state=0, n_init=\"auto\").fit(n_all)\n",
    "draw_clusters_3d(n_all, kmeans.labels_)"
   ]
  },
  {
   "cell_type": "markdown",
   "metadata": {},
   "source": [
    "**Задача 4**"
   ]
  },
  {
   "cell_type": "code",
   "execution_count": null,
   "metadata": {},
   "outputs": [],
   "source": [
    "agg_clustering = AgglomerativeClustering(distance_threshold=0, n_clusters=None)\n",
    "agg_clustering.fit(n_all)\n",
    "\n",
    "def plot_dendrogram(model, **kwargs):\n",
    "    counts = np.zeros(model.children_.shape[0])\n",
    "    n_samples = len(model.labels_)\n",
    "    for i, merge in enumerate(model.children_):\n",
    "        current_count = 0\n",
    "        for child_idx in merge:\n",
    "            if child_idx < n_samples:\n",
    "                current_count += 1  # leaf node\n",
    "            else:\n",
    "                current_count += counts[child_idx - n_samples]\n",
    "        counts[i] = current_count\n",
    "\n",
    "    linkage_matrix = np.column_stack([model.children_, model.distances_, counts]).astype(float)\n",
    "\n",
    "    dendrogram(linkage_matrix, **kwargs)\n",
    "\n",
    "plt.figure(figsize=(12, 8))\n",
    "plt.title(\"Дендрограмма\")\n",
    "plot_dendrogram(agg_clustering, truncate_mode=None, p=3)\n",
    "plt.xlabel(\"Номер образца или кластера\")\n",
    "plt.ylabel(\"Расстояние\")\n",
    "plt.show()\n"
   ]
  },
  {
   "cell_type": "markdown",
   "metadata": {},
   "source": [
    "**Задача 5**"
   ]
  },
  {
   "cell_type": "code",
   "execution_count": null,
   "metadata": {},
   "outputs": [],
   "source": [
    "D_inv = inv(np.cov(n_13.T))\n",
    "n_1_m = n_1.mean(axis=0)\n",
    "n_2_m = n_3.mean(axis=0)\n",
    "\n",
    "def classificate(xi):\n",
    "    xi.T @ D_inv @ (n_1_m - n_2_m) >= (n_1_m + n_2_m) @ D_inv @ (n_1_m - n_2_m)"
   ]
  }
 ],
 "metadata": {
  "kernelspec": {
   "display_name": "Python 3 (ipykernel)",
   "language": "python",
   "name": "python3"
  },
  "language_info": {
   "codemirror_mode": {
    "name": "ipython",
    "version": 3
   },
   "file_extension": ".py",
   "mimetype": "text/x-python",
   "name": "python",
   "nbconvert_exporter": "python",
   "pygments_lexer": "ipython3",
   "version": "3.12.2"
  }
 },
 "nbformat": 4,
 "nbformat_minor": 4
}
