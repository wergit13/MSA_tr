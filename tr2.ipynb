{
 "cells": [
  {
   "cell_type": "code",
   "execution_count": 2,
   "metadata": {},
   "outputs": [],
   "source": [
    "%matplotlib inline\n",
    "import numpy as np\n",
    "import scipy.stats as sps\n",
    "import pandas as pd\n",
    "import matplotlib.pyplot as plt\n",
    "import scipy.stats\n",
    "from IPython.display import display\n",
    "dtype = np.float64\n",
    "from printmd import  *\n",
    "float_formatter = \"{:.4f}\".format\n",
    "np.set_printoptions(formatter={'float_kind':float_formatter})"
   ]
  },
  {
   "cell_type": "markdown",
   "metadata": {},
   "source": [
    "**Задача 1.** Смоделировать конечную совокупность объема $N = 5000$ из нормальной совокупности с параметрами $M\\xi = 3m + 10$, $D\\xi = m$."
   ]
  },
  {
   "cell_type": "code",
   "execution_count": 3,
   "metadata": {},
   "outputs": [],
   "source": [
    "m = 15\n",
    "N = 5000\n",
    "Y = 3*m + 10 + (np.pow(m, 0.5)) * np.random.normal(loc=0, size=N)"
   ]
  },
  {
   "cell_type": "markdown",
   "metadata": {},
   "source": [
    "Простым случайным выбором извлечь из конечной совокупности выборку объема $\\frac{m}{10*m-4} \\cdot 100$ процентов от N. "
   ]
  },
  {
   "cell_type": "code",
   "execution_count": 4,
   "metadata": {},
   "outputs": [],
   "source": [
    "n = np.int16( np.ceil( (m/(10*m -4)) * N ) )\n",
    "Y_sample = np.random.choice(Y , size=n)"
   ]
  },
  {
   "cell_type": "markdown",
   "metadata": {},
   "source": [
    "А. Определить среднее $\\overline{Y}$ и дисперсию $\\sigma^2$ конечной совокупности."
   ]
  },
  {
   "cell_type": "code",
   "execution_count": 5,
   "metadata": {},
   "outputs": [
    {
     "data": {
      "text/latex": [
       "$$\\overline{Y}= \\frac{1}{N}\\sum_{i=1}^{N} y_i=    55.0254$$"
      ],
      "text/plain": [
       "<IPython.core.display.Latex object>"
      ]
     },
     "metadata": {},
     "output_type": "display_data"
    },
    {
     "data": {
      "text/latex": [
       "$$\\sigma^2=\\frac{1}{N - 1}\\sum_{i=1}^{N} (y_i - \\overline{Y})^2=    15.0593$$"
      ],
      "text/plain": [
       "<IPython.core.display.Latex object>"
      ]
     },
     "metadata": {},
     "output_type": "display_data"
    }
   ],
   "source": [
    "Y_m = np.mean(Y)\n",
    "Y_d = np.sum((Y - Y_m) ** 2) / (N - 1)\n",
    "display(mdLabelNumber(\"\\\\overline{Y}= \\\\frac{1}{N}\\\\sum_{i=1}^{N} y_i\", Y_m))\n",
    "display(mdLabelNumber(\"\\\\sigma^2=\\\\frac{1}{N - 1}\\\\sum_{i=1}^{N} (y_i - \\\\overline{Y})^2\", Y_d))"
   ]
  },
  {
   "cell_type": "markdown",
   "metadata": {},
   "source": [
    "Б. Найти выборочное значение дисперсии оценки среднего совокупности и построить доверительный интервал уровня $\\gamma = 0.95$ для среднего с учетом поправки на конечность совокупности. Проверить, накрывает ли интервал действительное значение среднего.\n"
   ]
  },
  {
   "cell_type": "code",
   "execution_count": 6,
   "metadata": {},
   "outputs": [
    {
     "data": {
      "text/latex": [
       "$$\\hat{\\overline{Y}} = \\frac{1}{n} \\sum_{i=1}^{n} \\xi_i=    54.9102$$"
      ],
      "text/plain": [
       "<IPython.core.display.Latex object>"
      ]
     },
     "metadata": {},
     "output_type": "display_data"
    },
    {
     "data": {
      "text/latex": [
       "$$\\hat{S}^2  =\\frac{1}{n - 1}\\sum_{i=1}^{n} (\\xi_i - \\hat{\\overline{Y}})^2=    13.1579$$"
      ],
      "text/plain": [
       "<IPython.core.display.Latex object>"
      ]
     },
     "metadata": {},
     "output_type": "display_data"
    }
   ],
   "source": [
    "y_m = Y_sample.mean()\n",
    "S = np.sum((Y_sample - y_m) ** 2) / (n - 1)\n",
    "display(mdLabelNumber(\"\\\\hat{\\\\overline{Y}} = \\\\frac{1}{n} \\\\sum_{i=1}^{n} \\\\xi_i\", y_m))\n",
    "display(mdLabelNumber(\"\\\\hat{S}^2  =\\\\frac{1}{n - 1}\\\\sum_{i=1}^{n} (\\\\xi_i - \\\\hat{\\\\overline{Y}})^2\", S))"
   ]
  },
  {
   "cell_type": "code",
   "execution_count": 7,
   "metadata": {},
   "outputs": [
    {
     "data": {
      "text/latex": [
       "$$\\hat{D}\\hat{\\overline{Y}} = \\frac{\\hat{S}^2}{n} \\times \\Big( 1 - \\frac{n}{N} \\Big)=     0.0230$$"
      ],
      "text/plain": [
       "<IPython.core.display.Latex object>"
      ]
     },
     "metadata": {},
     "output_type": "display_data"
    }
   ],
   "source": [
    "gamma = 0.95\n",
    "a = 1 - gamma\n",
    "D_y_m = S / n * ( 1 - n/N)\n",
    "display(mdLabelNumber(\"\\\\hat{D}\\\\hat{\\\\overline{Y}} = \\\\frac{\\\\hat{S}^2}{n} \\\\times \\\\Big( 1 - \\\\frac{n}{N} \\\\Big)\", D_y_m))"
   ]
  },
  {
   "cell_type": "code",
   "execution_count": 8,
   "metadata": {},
   "outputs": [
    {
     "data": {
      "text/latex": [
       "$$ \\gamma = P(\\hat{\\overline{Y}} - z_{1 - \\frac{a}{2}} \\cdot \\sqrt{\\hat{D}\\hat{\\overline{Y}}} \\leq \\hat{{Y}} \\leq \\hat{\\overline{Y}} + z_{1 - \\frac{a}{2}} \\cdot \\sqrt{\\hat{D}\\hat{\\overline{Y}}})$$"
      ],
      "text/plain": [
       "<IPython.core.display.Latex object>"
      ]
     },
     "metadata": {},
     "output_type": "display_data"
    },
    {
     "data": {
      "text/latex": [
       "$$ 0.95 = P(54.613 \\leq \\hat{Y} \\leq 55.207)$$"
      ],
      "text/plain": [
       "<IPython.core.display.Latex object>"
      ]
     },
     "metadata": {},
     "output_type": "display_data"
    }
   ],
   "source": [
    "y_m_left_bound = y_m - scipy.stats.norm.ppf(1 - a / 2) * np.pow(D_y_m, 0.5)\n",
    "y_m_right_bound = y_m + scipy.stats.norm.ppf(1 - a / 2) * np.pow(D_y_m, 0.5)\n",
    "printMd(\"$$ \\\\gamma = P(\\\\hat{\\\\overline{Y}} - z_{1 - \\\\frac{a}{2}} \\\\cdot \\\\sqrt{\\\\hat{D}\\\\hat{\\\\overline{Y}}} \\\\leq \\\\hat{{Y}} \\\\leq \\\\hat{\\\\overline{Y}} + z_{1 - \\\\frac{a}{2}} \\\\cdot \\\\sqrt{\\\\hat{D}\\\\hat{\\\\overline{Y}}})$$\")\n",
    "printMd(f\"$$ {gamma} = P({\"{:.3f}\".format(y_m_left_bound)} \\\\leq \\\\hat{{Y}} \\\\leq {\"{:.3f}\".format(y_m_right_bound)})$$\")"
   ]
  },
  {
   "cell_type": "markdown",
   "metadata": {},
   "source": [
    "– действительное значение среднего попадает в интервал"
   ]
  },
  {
   "cell_type": "markdown",
   "metadata": {},
   "source": [
    "**Задача 2.** Смоделировать конечную совокупность объема $N = 5000$ из нормальной совокупности с параметрами $M\\xi = 2m + 10$, $D\\xi = m$."
   ]
  },
  {
   "cell_type": "code",
   "execution_count": 9,
   "metadata": {},
   "outputs": [],
   "source": [
    "N = 5000\n",
    "Y = 2 * m + 10 + (np.pow(m, 0.5)) * np.random.normal(loc=0, size=N)"
   ]
  },
  {
   "cell_type": "markdown",
   "metadata": {},
   "source": [
    "Обозначим элементы совокупности через $y_i, i=\\overline{1,5000}$. Получить новую совокупность Z с элементами \n",
    "$$z_i = \\left(\\begin{aligned}  1, y_i \\le 2m + 10 - \\sqrt{m} \\\\ 0, \\text{в противном случае} \\end{aligned}\\right.$$"
   ]
  },
  {
   "cell_type": "code",
   "execution_count": 10,
   "metadata": {},
   "outputs": [],
   "source": [
    "Z = Y < (2 * m + 10 - np.pow(m, 0.5))"
   ]
  },
  {
   "cell_type": "markdown",
   "metadata": {},
   "source": [
    "Простым случайным выбором извлечь из конечной совокупности выборку объема $\\frac{m}{10*m-4} \\cdot 100$ процентов от $N$. "
   ]
  },
  {
   "cell_type": "code",
   "execution_count": 11,
   "metadata": {},
   "outputs": [],
   "source": [
    "n = np.int16( np.ceil( (m/(10*m -4)) * N ) )\n",
    "z = np.random.choice(Z , size=n)"
   ]
  },
  {
   "cell_type": "markdown",
   "metadata": {},
   "source": [
    "А. Оценить среднее $\\overline{Z}$ и дисперсию $\\sigma^2$ конечной совокупности Z."
   ]
  },
  {
   "cell_type": "code",
   "execution_count": 12,
   "metadata": {},
   "outputs": [
    {
     "data": {
      "text/latex": [
       "$$\\overline{Z}= \\frac{1}{N}\\Sigma z_i=     0.1578$$"
      ],
      "text/plain": [
       "<IPython.core.display.Latex object>"
      ]
     },
     "metadata": {},
     "output_type": "display_data"
    },
    {
     "data": {
      "text/latex": [
       "$$\\sigma^2=\\frac{1}{N - 1}\\sum_{i=1}^{N} (z_i - \\overline{Z})^2=     0.1329$$"
      ],
      "text/plain": [
       "<IPython.core.display.Latex object>"
      ]
     },
     "metadata": {},
     "output_type": "display_data"
    }
   ],
   "source": [
    "Z_m = np.mean(Z)\n",
    "Z_d = np.sum((Z - Z_m) ** 2) / (N - 1)\n",
    "display(mdLabelNumber(\"\\\\overline{Z}= \\\\frac{1}{N}\\\\Sigma z_i\", Z_m))\n",
    "display(mdLabelNumber(\"\\\\sigma^2=\\\\frac{1}{N - 1}\\\\sum_{i=1}^{N} (z_i - \\\\overline{Z})^2\", Z_d))"
   ]
  },
  {
   "cell_type": "markdown",
   "metadata": {},
   "source": [
    "Б. Найти выборочное значение дисперсии оценки среднего совокупности и построить доверительный интервал уровня $\\gamma = 0.95$ для среднего с учетом поправки на конечность совокупности. Проверить, накрывает ли интервал действительное значение среднего. Пояснить смысл оцениваемого параметра $\\overline{Z}$.\n"
   ]
  },
  {
   "cell_type": "code",
   "execution_count": 13,
   "metadata": {},
   "outputs": [
    {
     "data": {
      "text/latex": [
       "$$\\hat{\\overline{Z}} = \\frac{1}{n} \\sum_{i=1}^{n}  \\xi_i=     0.1790$$"
      ],
      "text/plain": [
       "<IPython.core.display.Latex object>"
      ]
     },
     "metadata": {},
     "output_type": "display_data"
    },
    {
     "data": {
      "text/latex": [
       "$$\\hat{S}^2  =\\frac{1}{n - 1}\\sum_{i=1}^{n} (\\xi_i - \\hat{\\overline{Z}})^2=     0.1472$$"
      ],
      "text/plain": [
       "<IPython.core.display.Latex object>"
      ]
     },
     "metadata": {},
     "output_type": "display_data"
    }
   ],
   "source": [
    "z_m = z.mean()\n",
    "S = np.sum((z - z_m) ** 2) / (n - 1)\n",
    "display(mdLabelNumber(\"\\\\hat{\\\\overline{Z}} = \\\\frac{1}{n} \\\\sum_{i=1}^{n}  \\\\xi_i\", z_m))\n",
    "display(mdLabelNumber(\"\\\\hat{S}^2  =\\\\frac{1}{n - 1}\\\\sum_{i=1}^{n} (\\\\xi_i - \\\\hat{\\\\overline{Z}})^2\", S))"
   ]
  },
  {
   "cell_type": "code",
   "execution_count": 14,
   "metadata": {},
   "outputs": [
    {
     "data": {
      "text/latex": [
       "$$\\hat{D}\\hat{\\overline{Z}} = \\frac{\\hat{S}^2}{n} \\times \\Big( 1 - \\frac{n}{N} \\Big)= 0.0002570076$$"
      ],
      "text/plain": [
       "<IPython.core.display.Latex object>"
      ]
     },
     "metadata": {},
     "output_type": "display_data"
    }
   ],
   "source": [
    "gamma = 0.95\n",
    "a = 1 - gamma\n",
    "D_z_m = S / n * ( 1 - n/N)\n",
    "display(mdLabelNumber(\"\\\\hat{D}\\\\hat{\\\\overline{Z}} = \\\\frac{\\\\hat{S}^2}{n} \\\\times \\\\Big( 1 - \\\\frac{n}{N} \\\\Big)\", D_z_m, pres=10))"
   ]
  },
  {
   "cell_type": "code",
   "execution_count": 15,
   "metadata": {},
   "outputs": [
    {
     "data": {
      "text/latex": [
       "$$ \\gamma = P(\\hat{\\overline{Z}} - z_{1 - \\frac{a}{2}} \\cdot \\sqrt{\\hat{D}\\hat{\\overline{Z}}} \\leq \\hat{{Z}} \\leq \\hat{\\overline{Z}} + z_{1 - \\frac{a}{2}} \\cdot \\sqrt{\\hat{D}\\hat{\\overline{Z}}})$$"
      ],
      "text/plain": [
       "<IPython.core.display.Latex object>"
      ]
     },
     "metadata": {},
     "output_type": "display_data"
    },
    {
     "data": {
      "text/latex": [
       "$$ 0.95 = P(0.1476 \\leq \\hat{Z} \\leq 0.2104)$$"
      ],
      "text/plain": [
       "<IPython.core.display.Latex object>"
      ]
     },
     "metadata": {},
     "output_type": "display_data"
    }
   ],
   "source": [
    "z_m_left_bound = z_m - scipy.stats.norm.ppf(1 - a / 2) * np.pow(D_z_m, 0.5)\n",
    "z_m_right_bound = z_m + scipy.stats.norm.ppf(1 - a / 2) * np.pow(D_z_m, 0.5)\n",
    "printMd(\"$$ \\\\gamma = P(\\\\hat{\\\\overline{Z}} - z_{1 - \\\\frac{a}{2}} \\\\cdot \\\\sqrt{\\\\hat{D}\\\\hat{\\\\overline{Z}}} \\\\leq \\\\hat{{Z}} \\\\leq \\\\hat{\\\\overline{Z}} + z_{1 - \\\\frac{a}{2}} \\\\cdot \\\\sqrt{\\\\hat{D}\\\\hat{\\\\overline{Z}}})$$\")\n",
    "printMd(f\"$$ {gamma} = P({\"{:.4f}\".format(z_m_left_bound)} \\\\leq \\\\hat{{Z}} \\\\leq {\"{:.4f}\".format(z_m_right_bound)})$$\")"
   ]
  },
  {
   "cell_type": "markdown",
   "metadata": {},
   "source": [
    "– действительное значение среднего попадает в интервал"
   ]
  },
  {
   "cell_type": "markdown",
   "metadata": {},
   "source": [
    "**Задача 3.** Смоделировать конечную совокупность $Y$ объема $N = 10000$ из нормальной совокупности с параметрами $M\\xi = 3m + 10$, $D\\xi = m$."
   ]
  },
  {
   "cell_type": "code",
   "execution_count": 16,
   "metadata": {},
   "outputs": [],
   "source": [
    "N = 10000\n",
    "Y = 3 * m + 10 + (np.pow(m, 0.5)) * np.random.normal(loc=0, size=N)"
   ]
  },
  {
   "cell_type": "markdown",
   "metadata": {},
   "source": [
    "Извлечь из конечной совокупности систематическую выборку объема  $\\frac{N}{k}$, где $k = [\\frac{m}{10}] + 10$ . Здесь $[x]$ - целая часть x.\n"
   ]
  },
  {
   "cell_type": "code",
   "execution_count": 17,
   "metadata": {},
   "outputs": [],
   "source": [
    "k = np.int16(np.floor( (m/10))) + 10\n",
    "y = Y[::k]\n",
    "n = y.shape[0]"
   ]
  },
  {
   "cell_type": "markdown",
   "metadata": {},
   "source": [
    "А. Оценить среднее $\\overline{Y}$ и дисперсию $\\sigma^2$ конечной совокупности."
   ]
  },
  {
   "cell_type": "code",
   "execution_count": 18,
   "metadata": {},
   "outputs": [
    {
     "data": {
      "text/latex": [
       "$$\\overline{Y}= \\frac{1}{N}\\sum_{i=1}^{N} y_i=    55.0053$$"
      ],
      "text/plain": [
       "<IPython.core.display.Latex object>"
      ]
     },
     "metadata": {},
     "output_type": "display_data"
    },
    {
     "data": {
      "text/latex": [
       "$$\\sigma^2=\\frac{1}{N - 1}\\sum_{i=1}^{N} (y_i - \\overline{Y})^2=    15.0353$$"
      ],
      "text/plain": [
       "<IPython.core.display.Latex object>"
      ]
     },
     "metadata": {},
     "output_type": "display_data"
    }
   ],
   "source": [
    "Y_m = np.mean(Y)\n",
    "Y_d = np.sum((Y - Y_m) ** 2) / (N - 1)\n",
    "display(mdLabelNumber(\"\\\\overline{Y}= \\\\frac{1}{N}\\\\sum_{i=1}^{N} y_i\", Y_m))\n",
    "display(mdLabelNumber(\"\\\\sigma^2=\\\\frac{1}{N - 1}\\\\sum_{i=1}^{N} (y_i - \\\\overline{Y})^2\", Y_d))"
   ]
  },
  {
   "cell_type": "markdown",
   "metadata": {},
   "source": [
    "Б. Найти выборочное значение дисперсии оценки среднего совокупности и построить доверительный интервал уровня $\\gamma = 0.95$ для среднего с учетом поправки на конечность совокупности. Проверить, накрывает ли интервал действительное значение среднего.\n"
   ]
  },
  {
   "cell_type": "code",
   "execution_count": 19,
   "metadata": {},
   "outputs": [
    {
     "data": {
      "text/latex": [
       "$$\\hat{\\overline{Y}} = \\frac{1}{n} \\sum_{i=1}^{n} \\xi_i=    54.9239$$"
      ],
      "text/plain": [
       "<IPython.core.display.Latex object>"
      ]
     },
     "metadata": {},
     "output_type": "display_data"
    },
    {
     "data": {
      "text/latex": [
       "$$\\hat{S}^2  =\\frac{1}{n - 1}\\sum_{i=1}^{n} (\\xi_i - \\hat{\\overline{Y}})^2=    16.0780$$"
      ],
      "text/plain": [
       "<IPython.core.display.Latex object>"
      ]
     },
     "metadata": {},
     "output_type": "display_data"
    }
   ],
   "source": [
    "y_m = y.mean()\n",
    "S = np.sum((y - y_m) ** 2) / (n - 1)\n",
    "display(mdLabelNumber(\"\\\\hat{\\\\overline{Y}} = \\\\frac{1}{n} \\\\sum_{i=1}^{n} \\\\xi_i\", y_m))\n",
    "display(mdLabelNumber(\"\\\\hat{S}^2  =\\\\frac{1}{n - 1}\\\\sum_{i=1}^{n} (\\\\xi_i - \\\\hat{\\\\overline{Y}})^2\", S))"
   ]
  },
  {
   "cell_type": "code",
   "execution_count": 20,
   "metadata": {},
   "outputs": [
    {
     "data": {
      "text/latex": [
       "$$\\hat{D}\\hat{\\overline{Y}} = \\frac{\\hat{S}^2}{n} \\times \\Big( 1 - \\frac{n}{N} \\Big)=     0.0161$$"
      ],
      "text/plain": [
       "<IPython.core.display.Latex object>"
      ]
     },
     "metadata": {},
     "output_type": "display_data"
    }
   ],
   "source": [
    "gamma = 0.95\n",
    "a = 1 - gamma\n",
    "D_y_m = S / n * ( 1 - n/N)\n",
    "display(mdLabelNumber(\"\\\\hat{D}\\\\hat{\\\\overline{Y}} = \\\\frac{\\\\hat{S}^2}{n} \\\\times \\\\Big( 1 - \\\\frac{n}{N} \\\\Big)\", D_y_m))"
   ]
  },
  {
   "cell_type": "code",
   "execution_count": 21,
   "metadata": {},
   "outputs": [
    {
     "data": {
      "text/latex": [
       "$$ \\gamma = P(\\hat{\\overline{Y}} - z_{1 - \\frac{a}{2}} \\cdot \\sqrt{\\hat{D}\\hat{\\overline{Y}}} \\leq \\hat{{Y}} \\leq \\hat{\\overline{Y}} + z_{1 - \\frac{a}{2}} \\cdot \\sqrt{\\hat{D}\\hat{\\overline{Y}}})$$"
      ],
      "text/plain": [
       "<IPython.core.display.Latex object>"
      ]
     },
     "metadata": {},
     "output_type": "display_data"
    },
    {
     "data": {
      "text/latex": [
       "$$ 0.95 = P(54.676 \\leq \\hat{Y} \\leq 55.172)$$"
      ],
      "text/plain": [
       "<IPython.core.display.Latex object>"
      ]
     },
     "metadata": {},
     "output_type": "display_data"
    }
   ],
   "source": [
    "y_m_left_bound = y_m - scipy.stats.norm.ppf(1 - a / 2) * np.pow(D_y_m, 0.5)\n",
    "y_m_right_bound = y_m + scipy.stats.norm.ppf(1 - a / 2) * np.pow(D_y_m, 0.5)\n",
    "printMd(\"$$ \\\\gamma = P(\\\\hat{\\\\overline{Y}} - z_{1 - \\\\frac{a}{2}} \\\\cdot \\\\sqrt{\\\\hat{D}\\\\hat{\\\\overline{Y}}} \\\\leq \\\\hat{{Y}} \\\\leq \\\\hat{\\\\overline{Y}} + z_{1 - \\\\frac{a}{2}} \\\\cdot \\\\sqrt{\\\\hat{D}\\\\hat{\\\\overline{Y}}})$$\")\n",
    "printMd(f\"$$ {gamma} = P({\"{:.3f}\".format(y_m_left_bound)} \\\\leq \\\\hat{{Y}} \\\\leq {\"{:.3f}\".format(y_m_right_bound)})$$\")"
   ]
  },
  {
   "cell_type": "markdown",
   "metadata": {},
   "source": [
    "– действительное значение среднего попадает в интервал"
   ]
  },
  {
   "cell_type": "code",
   "execution_count": 22,
   "metadata": {},
   "outputs": [
    {
     "data": {
      "image/png": "[encoded data removed]",
      "text/plain": [
       "<Figure size 640x480 with 1 Axes>"
      ]
     },
     "metadata": {},
     "output_type": "display_data"
    }
   ],
   "source": [
    "plt.hist(Y, bins=20)\n",
    "_ = plt.hist(y, bins=20)"
   ]
  },
  {
   "cell_type": "markdown",
   "metadata": {},
   "source": [
    "**Задача 4.** Смоделировать конечную совокупность объема $N = 10000$ из нормальной совокупности с параметрами $M\\xi = 2m + 10$, $D\\xi = m$."
   ]
  },
  {
   "cell_type": "code",
   "execution_count": 23,
   "metadata": {},
   "outputs": [],
   "source": [
    "N = 10000\n",
    "Y = 2 * m + 10 + (np.pow(m, 0.5)) * np.random.normal(loc=0, size=N)"
   ]
  },
  {
   "cell_type": "markdown",
   "metadata": {},
   "source": [
    "Обозначим элементы совокупности через $y_i, i=\\overline{1,10000}$. Получить новую совокупность Z с элементами \n",
    "$$z_i = \\left(\\begin{aligned}  1, y_i \\le 2m + 10 - \\sqrt{m} \\\\ 0, \\text{в противном случае} \\end{aligned}\\right.$$"
   ]
  },
  {
   "cell_type": "code",
   "execution_count": 24,
   "metadata": {},
   "outputs": [],
   "source": [
    "Z = Y < (2 * m + 10 - np.pow(m, 0.5))"
   ]
  },
  {
   "cell_type": "markdown",
   "metadata": {},
   "source": [
    "Систематическим случайным выбором извлечь из конечной совокупности Z выборку объема $\\frac{N}{k}$, где $k = [\\frac{m}{10}] + 20$ . Здесь $[x]$ - целая часть x.\n"
   ]
  },
  {
   "cell_type": "code",
   "execution_count": 25,
   "metadata": {},
   "outputs": [],
   "source": [
    "k = np.int16(np.floor( (m/10))) + 20\n",
    "z = Z[::k]\n",
    "n = y.shape[0]"
   ]
  },
  {
   "cell_type": "markdown",
   "metadata": {},
   "source": [
    "А. Оценить среднее $\\overline{Z}$ и дисперсию $\\sigma^2$ конечной совокупности Z."
   ]
  },
  {
   "cell_type": "code",
   "execution_count": 26,
   "metadata": {},
   "outputs": [
    {
     "data": {
      "text/latex": [
       "$$\\overline{Z}= \\frac{1}{N}\\sum_{i=1}^{N} z_i=     0.1582$$"
      ],
      "text/plain": [
       "<IPython.core.display.Latex object>"
      ]
     },
     "metadata": {},
     "output_type": "display_data"
    },
    {
     "data": {
      "text/latex": [
       "$$\\sigma^2=\\frac{1}{N - 1}\\sum_{i=1}^{N} (z_i - \\overline{Z})^2=     0.1332$$"
      ],
      "text/plain": [
       "<IPython.core.display.Latex object>"
      ]
     },
     "metadata": {},
     "output_type": "display_data"
    }
   ],
   "source": [
    "Z_m = np.mean(Z)\n",
    "Z_d = np.sum((Z - Z_m) ** 2) / (N - 1)\n",
    "display(mdLabelNumber(\"\\\\overline{Z}= \\\\frac{1}{N}\\\\sum_{i=1}^{N} z_i\", Z_m))\n",
    "display(mdLabelNumber(\"\\\\sigma^2=\\\\frac{1}{N - 1}\\\\sum_{i=1}^{N} (z_i - \\\\overline{Z})^2\", Z_d))"
   ]
  },
  {
   "cell_type": "markdown",
   "metadata": {},
   "source": [
    "Б. Найти выборочное значение дисперсии оценки среднего совокупности и построить доверительный интервал уровня $\\gamma = 0.95$ для среднего с учетом поправки на конечность совокупности. Проверить, накрывает ли интервал действительное значение среднего. Пояснить смысл оцениваемого параметра $\\overline{Z}$.\n"
   ]
  },
  {
   "cell_type": "code",
   "execution_count": 27,
   "metadata": {},
   "outputs": [
    {
     "data": {
      "text/latex": [
       "$$\\hat{\\overline{Z}} = \\frac{1}{n} \\sum_{i=1}^{n} \\xi_i=     0.1593$$"
      ],
      "text/plain": [
       "<IPython.core.display.Latex object>"
      ]
     },
     "metadata": {},
     "output_type": "display_data"
    },
    {
     "data": {
      "text/latex": [
       "$$\\hat{S}^2  =\\frac{1}{n - 1}\\sum_{i=1}^{n} (\\xi_i - \\hat{\\overline{Z}})^2=     0.0703$$"
      ],
      "text/plain": [
       "<IPython.core.display.Latex object>"
      ]
     },
     "metadata": {},
     "output_type": "display_data"
    }
   ],
   "source": [
    "z_m = z.mean()\n",
    "S = np.sum((z - z_m) ** 2) / (n - 1)\n",
    "display(mdLabelNumber(\"\\\\hat{\\\\overline{Z}} = \\\\frac{1}{n} \\\\sum_{i=1}^{n} \\\\xi_i\", z_m))\n",
    "display(mdLabelNumber(\"\\\\hat{S}^2  =\\\\frac{1}{n - 1}\\\\sum_{i=1}^{n} (\\\\xi_i - \\\\hat{\\\\overline{Z}})^2\", S))"
   ]
  },
  {
   "cell_type": "code",
   "execution_count": 28,
   "metadata": {},
   "outputs": [
    {
     "data": {
      "text/latex": [
       "$$\\hat{D}\\hat{\\overline{Z}} = \\frac{\\hat{S}^2}{n} \\times \\Big( 1 - \\frac{n}{N} \\Big)= 0.0000702099$$"
      ],
      "text/plain": [
       "<IPython.core.display.Latex object>"
      ]
     },
     "metadata": {},
     "output_type": "display_data"
    }
   ],
   "source": [
    "gamma = 0.95\n",
    "a = 1 - gamma\n",
    "D_z_m = S / n * ( 1 - n/N)\n",
    "display(mdLabelNumber(\"\\\\hat{D}\\\\hat{\\\\overline{Z}} = \\\\frac{\\\\hat{S}^2}{n} \\\\times \\\\Big( 1 - \\\\frac{n}{N} \\\\Big)\", D_z_m, pres=10))"
   ]
  },
  {
   "cell_type": "code",
   "execution_count": 7,
   "metadata": {},
   "outputs": [
    {
     "data": {
      "text/plain": [
       "np.float64(54.74075590617876)"
      ]
     },
     "execution_count": 7,
     "metadata": {},
     "output_type": "execute_result"
    }
   ],
   "source": [
    "54.98 - scipy.stats.norm.ppf( 1 - 0.025 ) * 0.0149 ** 0.5"
   ]
  },
  {
   "cell_type": "code",
   "execution_count": 29,
   "metadata": {},
   "outputs": [
    {
     "data": {
      "text/latex": [
       "$$ \\gamma = P(\\hat{\\overline{Z}} - z_{1 - \\frac{a}{2}} \\cdot \\sqrt{\\hat{D}\\hat{\\overline{Z}}} \\leq \\hat{{Z}} \\leq \\hat{\\overline{Z}} + z_{1 - \\frac{a}{2}} \\cdot \\sqrt{\\hat{D}\\hat{\\overline{Z}}})$$"
      ],
      "text/plain": [
       "<IPython.core.display.Latex object>"
      ]
     },
     "metadata": {},
     "output_type": "display_data"
    },
    {
     "data": {
      "text/latex": [
       "$$ 0.95 = P(0.1429 \\leq \\hat{Z} \\leq 0.1758)$$"
      ],
      "text/plain": [
       "<IPython.core.display.Latex object>"
      ]
     },
     "metadata": {},
     "output_type": "display_data"
    }
   ],
   "source": [
    "z_m_left_bound = z_m - scipy.stats.norm.ppf(1 - a / 2) * np.pow(D_z_m, 0.5)\n",
    "z_m_right_bound = z_m + scipy.stats.norm.ppf(1 - a / 2) * np.pow(D_z_m, 0.5)\n",
    "printMd(\"$$ \\\\gamma = P(\\\\hat{\\\\overline{Z}} - z_{1 - \\\\frac{a}{2}} \\\\cdot \\\\sqrt{\\\\hat{D}\\\\hat{\\\\overline{Z}}} \\\\leq \\\\hat{{Z}} \\\\leq \\\\hat{\\\\overline{Z}} + z_{1 - \\\\frac{a}{2}} \\\\cdot \\\\sqrt{\\\\hat{D}\\\\hat{\\\\overline{Z}}})$$\")\n",
    "printMd(f\"$$ {gamma} = P({\"{:.4f}\".format(z_m_left_bound)} \\\\leq \\\\hat{{Z}} \\\\leq {\"{:.4f}\".format(z_m_right_bound)})$$\")"
   ]
  },
  {
   "cell_type": "markdown",
   "metadata": {},
   "source": [
    "– действительное значение среднего попадает в интервал\n",
    "\n",
    "Параметр  показывает долю (вероятность) выполнения условия: $y_i \\le 2m + 10 - \\sqrt{m}$"
   ]
  },
  {
   "cell_type": "markdown",
   "metadata": {},
   "source": [
    "**Задача 5.** Конечная совокупность Y объема $N=10000$ состоит из трех слоев $Y_1$, $Y_2$, $Y_3$ объемами $N_1 = 3000 , N_2 = 3000,  N_3 = 4000$ соответственно. Каждый слой получен моделированием выборок из нормальных совокупностей с параметрами $M\\xi = 2m + 10$, $D\\xi = m$  ― первый слой, $M\\xi = 2m + 5$, $D\\xi = m$ ― первый слой, $M\\xi = 2m + 8$, $D\\xi = m + 1$ ― третий слой, "
   ]
  },
  {
   "cell_type": "code",
   "execution_count": 30,
   "metadata": {},
   "outputs": [],
   "source": [
    "N_1 = 3000\n",
    "Y_1 = 2 * m + 10 + (np.pow(m, 0.5)) * np.random.normal(loc=0, size=N_1)\n",
    "N_2 = 3000\n",
    "Y_2 = 2 * m + 5 + (np.pow(m, 0.5)) * np.random.normal(loc=0, size=N_2)\n",
    "N_3 = 4000\n",
    "Y_3 = 2 * m + 8 + (np.pow(m+1, 0.5)) * np.random.normal(loc=0, size=N_3)\n",
    "Y = np.hstack([Y_1, Y_2, Y_3])"
   ]
  },
  {
   "cell_type": "markdown",
   "metadata": {},
   "source": [
    "Из каждого слоя простым случайным выбором получены выборки объема $n_1=400, n_2=300, n_3=300$"
   ]
  },
  {
   "cell_type": "code",
   "execution_count": 31,
   "metadata": {},
   "outputs": [],
   "source": [
    "n_1 = 400\n",
    "n_2 = 300\n",
    "n_3 = 300\n",
    "y_1 = np.random.choice(Y_1 , size=n_1)\n",
    "y_2 = np.random.choice(Y_2 , size=n_2)\n",
    "y_3 = np.random.choice(Y_3 , size=n_3)"
   ]
  },
  {
   "cell_type": "markdown",
   "metadata": {},
   "source": [
    "А. Найти точные значения среднего и дисперсии всей совокупности $Y$"
   ]
  },
  {
   "cell_type": "code",
   "execution_count": 32,
   "metadata": {},
   "outputs": [
    {
     "data": {
      "text/latex": [
       "$$\\overline{Y}= \\frac{1}{N}\\sum_{i=1}^{N} y_i=    37.7044$$"
      ],
      "text/plain": [
       "<IPython.core.display.Latex object>"
      ]
     },
     "metadata": {},
     "output_type": "display_data"
    },
    {
     "data": {
      "text/latex": [
       "$$\\sigma^2=\\frac{1}{N - 1}\\sum_{i=1}^{N} (y_i - \\overline{Y})^2=    18.5723$$"
      ],
      "text/plain": [
       "<IPython.core.display.Latex object>"
      ]
     },
     "metadata": {},
     "output_type": "display_data"
    }
   ],
   "source": [
    "Y_m = np.mean(Y)\n",
    "Y_d = np.sum((Y - Y_m) ** 2) / (N - 1)\n",
    "display(mdLabelNumber(\"\\\\overline{Y}= \\\\frac{1}{N}\\\\sum_{i=1}^{N} y_i\", Y_m))\n",
    "display(mdLabelNumber(\"\\\\sigma^2=\\\\frac{1}{N - 1}\\\\sum_{i=1}^{N} (y_i - \\\\overline{Y})^2\", Y_d))"
   ]
  },
  {
   "cell_type": "markdown",
   "metadata": {},
   "source": [
    "Б. Найти стратифицированную оценку  среднего всей совокупности и выборочное значение дисперсии этой оценки;"
   ]
  },
  {
   "cell_type": "code",
   "execution_count": 33,
   "metadata": {},
   "outputs": [
    {
     "data": {
      "text/latex": [
       "$$\\hat{\\overline{Y_1}} = \\frac{1}{n_1} \\sum_{i=1}^{n_1} \\xi_i=    39.8374$$"
      ],
      "text/plain": [
       "<IPython.core.display.Latex object>"
      ]
     },
     "metadata": {},
     "output_type": "display_data"
    },
    {
     "data": {
      "text/latex": [
       "$$\\hat{\\overline{Y_2}} = \\frac{1}{n_2} \\sum_{i=1}^{n_2} \\xi_i=    34.7072$$"
      ],
      "text/plain": [
       "<IPython.core.display.Latex object>"
      ]
     },
     "metadata": {},
     "output_type": "display_data"
    },
    {
     "data": {
      "text/latex": [
       "$$\\hat{\\overline{Y_3}} = \\frac{1}{n_3} \\sum_{i=1}^{n_3} \\xi_i=    37.9588$$"
      ],
      "text/plain": [
       "<IPython.core.display.Latex object>"
      ]
     },
     "metadata": {},
     "output_type": "display_data"
    },
    {
     "data": {
      "text/latex": [
       "$$\\hat{\\overline{Y_{стр}}} = \\sum_{i=1}^{3} w_i \\cdot \\hat{\\overline{Y_i}}=    37.5469$$"
      ],
      "text/plain": [
       "<IPython.core.display.Latex object>"
      ]
     },
     "metadata": {},
     "output_type": "display_data"
    },
    {
     "data": {
      "text/latex": [
       "$$\\hat{S_1}^2  =\\frac{1}{n_1 - 1}\\sum_{i=1}^{n_1} (\\xi_i - \\hat{\\overline{Y_1}})^2=    13.1215$$"
      ],
      "text/plain": [
       "<IPython.core.display.Latex object>"
      ]
     },
     "metadata": {},
     "output_type": "display_data"
    },
    {
     "data": {
      "text/latex": [
       "$$\\hat{S_2}^2  =\\frac{1}{n_2 - 1}\\sum_{i=1}^{n_1} (\\xi_i - \\hat{\\overline{Y_2}})^2=    13.7518$$"
      ],
      "text/plain": [
       "<IPython.core.display.Latex object>"
      ]
     },
     "metadata": {},
     "output_type": "display_data"
    },
    {
     "data": {
      "text/latex": [
       "$$\\hat{S_3}^2  =\\frac{1}{n_3 - 1}\\sum_{i=1}^{n_3} (\\xi_i - \\hat{\\overline{Y_3}})^2=    15.6676$$"
      ],
      "text/plain": [
       "<IPython.core.display.Latex object>"
      ]
     },
     "metadata": {},
     "output_type": "display_data"
    },
    {
     "data": {
      "text/latex": [
       "$$\\hat{D}\\hat{\\overline{Y}}  = \\sum_{i=1}^{3} w^2_{i} \\cdot \\frac{\\hat{S_i}^2 }{n_i} \\cdot (1 - f_i)=     0.0387$$"
      ],
      "text/plain": [
       "<IPython.core.display.Latex object>"
      ]
     },
     "metadata": {},
     "output_type": "display_data"
    }
   ],
   "source": [
    "y_1_m = y_1.mean()\n",
    "y_2_m = y_2.mean()\n",
    "y_3_m = y_3.mean()\n",
    "S_1 = y_1.var()\n",
    "S_2 = y_2.var()\n",
    "S_3 = y_3.var()\n",
    "\n",
    "y_m = y_1_m * (N_1/N) + y_2_m * (N_2/N) + y_3_m * (N_3/N)\n",
    "y_m_d = (n_1/N_1)**(0.5) * S_3 / n_1 * (1 - n_1 / N_1) + (n_2/N_2)**(0.5) * S_2 / n_2 * (1 - n_2 / N_2) + (n_3/N_3)**(0.5) * S_3 / n_3 * (1 - n_3 / N_3)\n",
    "display(mdLabelNumber(\"\\\\hat{\\\\overline{Y_1}} = \\\\frac{1}{n_1} \\\\sum_{i=1}^{n_1} \\\\xi_i\", y_1_m))\n",
    "display(mdLabelNumber(\"\\\\hat{\\\\overline{Y_2}} = \\\\frac{1}{n_2} \\\\sum_{i=1}^{n_2} \\\\xi_i\", y_2_m))\n",
    "display(mdLabelNumber(\"\\\\hat{\\\\overline{Y_3}} = \\\\frac{1}{n_3} \\\\sum_{i=1}^{n_3} \\\\xi_i\", y_3_m))\n",
    "display(mdLabelNumber(\"\\\\hat{\\\\overline{Y_{стр}}} = \\\\sum_{i=1}^{3} w_i \\\\cdot \\\\hat{\\\\overline{Y_i}}\", y_m))\n",
    "display(mdLabelNumber(\"\\\\hat{S_1}^2  =\\\\frac{1}{n_1 - 1}\\\\sum_{i=1}^{n_1} (\\\\xi_i - \\\\hat{\\\\overline{Y_1}})^2\", S_1))\n",
    "display(mdLabelNumber(\"\\\\hat{S_2}^2  =\\\\frac{1}{n_2 - 1}\\\\sum_{i=1}^{n_1} (\\\\xi_i - \\\\hat{\\\\overline{Y_2}})^2\", S_2))\n",
    "display(mdLabelNumber(\"\\\\hat{S_3}^2  =\\\\frac{1}{n_3 - 1}\\\\sum_{i=1}^{n_3} (\\\\xi_i - \\\\hat{\\\\overline{Y_3}})^2\", S_3))\n",
    "display(mdLabelNumber(\"\\\\hat{D}\\\\hat{\\\\overline{Y}}  = \\\\sum_{i=1}^{3} w^2_{i} \\\\cdot \\\\frac{\\\\hat{S_i}^2 }{n_i} \\\\cdot (1 - f_i)\", y_m_d))"
   ]
  },
  {
   "cell_type": "markdown",
   "metadata": {},
   "source": [
    "В. Найти доверительный интервал уровня $\\gamma=0,9$ для среднего значения всей совокупности"
   ]
  },
  {
   "cell_type": "code",
   "execution_count": 34,
   "metadata": {},
   "outputs": [
    {
     "data": {
      "text/latex": [
       "$$ \\gamma = P(\\hat{\\overline{Y}} - z_{1 - \\frac{a}{2}} \\cdot \\sqrt{\\hat{D}\\hat{\\overline{Y}}} \\leq \\hat{{Y}} \\leq \\hat{\\overline{Y}} + z_{1 - \\frac{a}{2}} \\cdot \\sqrt{\\hat{D}\\hat{\\overline{Y}}})$$"
      ],
      "text/plain": [
       "<IPython.core.display.Latex object>"
      ]
     },
     "metadata": {},
     "output_type": "display_data"
    },
    {
     "data": {
      "text/latex": [
       "$$ 0.9 = P(37.223 \\leq \\hat{Y} \\leq 37.870)$$"
      ],
      "text/plain": [
       "<IPython.core.display.Latex object>"
      ]
     },
     "metadata": {},
     "output_type": "display_data"
    }
   ],
   "source": [
    "gamma = 0.9\n",
    "a = 1 - gamma\n",
    "y_m_left_bound = y_m - scipy.stats.norm.ppf(1 - a / 2) * np.pow(y_m_d, 0.5)\n",
    "y_m_right_bound = y_m + scipy.stats.norm.ppf(1 - a / 2) * np.pow(y_m_d, 0.5)\n",
    "printMd(\"$$ \\\\gamma = P(\\\\hat{\\\\overline{Y}} - z_{1 - \\\\frac{a}{2}} \\\\cdot \\\\sqrt{\\\\hat{D}\\\\hat{\\\\overline{Y}}} \\\\leq \\\\hat{{Y}} \\\\leq \\\\hat{\\\\overline{Y}} + z_{1 - \\\\frac{a}{2}} \\\\cdot \\\\sqrt{\\\\hat{D}\\\\hat{\\\\overline{Y}}})$$\")\n",
    "printMd(f\"$$ {gamma} = P({\"{:.3f}\".format(y_m_left_bound)} \\\\leq \\\\hat{{Y}} \\\\leq {\"{:.3f}\".format(y_m_right_bound)})$$\")"
   ]
  },
  {
   "cell_type": "markdown",
   "metadata": {},
   "source": [
    "– действительное значение среднего попадает в интервал\n",
    "\n",
    "Г. Пусть $c_1=1,c_2=2,c_3=3$ - стоимости «измерения» одного наблюдения (в условных единицах) в слоях $Y_1, Y_2, Y_3$ соответственно. Общая стоимость опроса не должна превышать 3000 у.е. Найти оптимальное соотношение между объемами $n_1,n_2,n_3$ выборок слоев, обеспечивающее минимальную дисперсию оценки среднего, а также суммарный $n=n_1+n_2+n_3$ объем этих выборок.\n",
    "\n",
    "Формула оптимального стратифицированного отбора для распределения объёмов выборки $n_1, n_2, n_3$:\n",
    "\n",
    "$$n_{опт} = \\frac{L \\cdot \\sum_{k=1}^{3} w_k \\cdot \\frac{S_k}{\\sqrt{c_k}}}{\\sum_{j=1}^{3} w_j s_k \\sqrt{c_k}} $$\n",
    "$$ n_{опт} = \\frac{ 3000 \\Big(  \\frac{3}{10} \\cdot \\frac{\\sqrt{15}}{1} + \\frac{3}{10} \\cdot \\frac{\\sqrt{15}}{\\sqrt{2}} + \\frac{4}{10} \\cdot \\frac{\\sqrt{16}}{1} \\Big) }{\\frac{3}{10} \\cdot \\sqrt{15} \\cdot 1 + \\frac{3}{10} \\cdot  \\sqrt{15} \\cdot \\sqrt{2} + \\frac{4}{10} \\cdot  \\sqrt{16} \\cdot 1 } $$\n",
    "$$\n",
    "n_{опт} = 2440\n",
    "$$\n",
    "$$\n",
    "n_i = n \\cdot \\frac{w_i \\cdot \\frac{s_i}{\\sqrt{c_i}}}{\\sum_{j=1}^3 w_j \\cdot \\frac{s_j}{\\sqrt{c_j}}} $$\n",
    "$$\n",
    "n_1 = 2440 \\cdot \\frac{\\frac{3}{10} \\cdot \\frac{\\sqrt{15}}{1}}{\\frac{3}{10} \\cdot \\frac{\\sqrt{15}}{1} + \\frac{3}{10} \\cdot \\frac{\\sqrt{15}}{\\sqrt{2}} + \\frac{4}{10} \\cdot \\frac{\\sqrt{16}}{1}} = 791\n",
    "$$\n",
    "\n",
    "$$\n",
    "n_2 = 2440 \\cdot \\frac{\\frac{3}{10} \\cdot \\frac{\\sqrt{15}}{\\sqrt{2}}}{\\frac{3}{10} \\cdot \\frac{\\sqrt{15}}{1} + \\frac{3}{10} \\cdot \\frac{\\sqrt{15}}{\\sqrt{2}} + \\frac{4}{10} \\cdot \\frac{\\sqrt{16}}{1}} = 559\n",
    "$$\n",
    "\n",
    "$$\n",
    "n_3 = 2440 \\cdot \\frac{\\frac{4}{10} \\cdot \\frac{\\sqrt{16}}{1}}{\\frac{3}{10} \\cdot \\frac{\\sqrt{15}}{1} + \\frac{3}{10} \\cdot \\frac{\\sqrt{15}}{\\sqrt{2}} + \\frac{4}{10} \\cdot \\frac{\\sqrt{16}}{1}} = 1090\n",
    "$$\n",
    "$$\n",
    "791 + 559 + 1090 = 2440 \n",
    "$$\n",
    "\n",
    "**Задача 6.** Смоделировать конечную совокупность объема $N= 5000$ из двух характеристик $(y,x)$. Характеристика $y$ - нормальная совокупность с параметрами $M\\xi = 3m+10, D\\xi=2m$. Характеристика $x$ моделируется по формуле: $x=P(2)+1$, где $P(2)$  - пуассоновская случайная величина с параметром $2$. \n",
    "\n"
   ]
  },
  {
   "cell_type": "code",
   "execution_count": 35,
   "metadata": {},
   "outputs": [],
   "source": [
    "N = 5000\n",
    "Y = 3 * m + 10 + (np.pow(2 * m, 0.5)) * np.random.normal(loc=0, size=N)\n",
    "X = np.random.poisson(2, N) + 1\n",
    "YX = np.vstack((Y, X))"
   ]
  },
  {
   "cell_type": "markdown",
   "metadata": {},
   "source": [
    "Простым случайным выбором извлечь из конечной совокупности двумерную выборку объема $\\frac{m}{10m-4} \\cdot 100$ процентов от N."
   ]
  },
  {
   "cell_type": "code",
   "execution_count": 36,
   "metadata": {},
   "outputs": [],
   "source": [
    "n = np.int16( np.ceil( (m/(10*m -4)) * N ) )\n",
    "yx = YX[:,np.random.choice(YX.shape[1] , size=n)]"
   ]
  },
  {
   "cell_type": "markdown",
   "metadata": {},
   "source": [
    "А. Найти действительное среднее по отношению $\\overline{Y}$ и действительную дисперсию $\\sigma^2 $ по всей совокупности."
   ]
  },
  {
   "cell_type": "code",
   "execution_count": 37,
   "metadata": {},
   "outputs": [
    {
     "data": {
      "text/latex": [
       "$$\\overline{Y}= \\frac{1}{N}\\sum_{i=1}^{N} y_i=    55.0760$$"
      ],
      "text/plain": [
       "<IPython.core.display.Latex object>"
      ]
     },
     "metadata": {},
     "output_type": "display_data"
    },
    {
     "data": {
      "text/latex": [
       "$$\\overline{X}= \\frac{1}{N}\\sum_{i=1}^{N} x_i=     3.0236$$"
      ],
      "text/plain": [
       "<IPython.core.display.Latex object>"
      ]
     },
     "metadata": {},
     "output_type": "display_data"
    },
    {
     "data": {
      "text/latex": [
       "$$ K = \\frac{\\overline{Y}}{\\overline{X}}=\\frac{55.076}{3.024} = 18.215  $$"
      ],
      "text/plain": [
       "<IPython.core.display.Latex object>"
      ]
     },
     "metadata": {},
     "output_type": "display_data"
    }
   ],
   "source": [
    "YX_m = np.mean(YX,axis=1)\n",
    "display(mdLabelNumber(\"\\\\overline{Y}= \\\\frac{1}{N}\\\\sum_{i=1}^{N} y_i\", YX_m[0]))\n",
    "display(mdLabelNumber(\"\\\\overline{X}= \\\\frac{1}{N}\\\\sum_{i=1}^{N} x_i\", YX_m[1]))\n",
    "printMd(\"$$ K = \\\\frac{\\\\overline{Y}}{\\\\overline{X}}=\" f\"\\\\frac{{{\"{:.3f}\".format( YX_m[0])}}}{{{\"{:.3f}\".format( YX_m[1])}}} = {\"{:.3f}\".format( YX_m[0]/YX_m[1])}  $$\")"
   ]
  },
  {
   "cell_type": "markdown",
   "metadata": {},
   "source": [
    "Сформируем величину $z_i = (y_i - K x_i)$ для расчета дисперсии совокупности"
   ]
  },
  {
   "cell_type": "code",
   "execution_count": 38,
   "metadata": {},
   "outputs": [
    {
     "data": {
      "text/latex": [
       "$$\\sigma^2=   691.5165$$"
      ],
      "text/plain": [
       "<IPython.core.display.Latex object>"
      ]
     },
     "metadata": {},
     "output_type": "display_data"
    }
   ],
   "source": [
    "Z = YX[0,:] - YX[1,:] * (YX_m[0] /  YX_m[1])\n",
    "Z_d = Z.var()\n",
    "display(mdLabelNumber(\"\\\\sigma^2\", Z_d))"
   ]
  },
  {
   "cell_type": "markdown",
   "metadata": {},
   "source": [
    "Б. По выборке найти оценку по отношению среднего $\\overline{Y}$ и дисперсии $\\sigma^2$ конечной совокупности."
   ]
  },
  {
   "cell_type": "code",
   "execution_count": 39,
   "metadata": {},
   "outputs": [
    {
     "data": {
      "text/latex": [
       "$$\\hat{\\overline{Y}}= \\frac{1}{n}\\sum_{i=1}^{n} \\eta_i=    54.8461$$"
      ],
      "text/plain": [
       "<IPython.core.display.Latex object>"
      ]
     },
     "metadata": {},
     "output_type": "display_data"
    },
    {
     "data": {
      "text/latex": [
       "$$\\hat{\\overline{X}}= \\frac{1}{n}\\sum_{i=1}^{n} \\xi_i=     3.0837$$"
      ],
      "text/plain": [
       "<IPython.core.display.Latex object>"
      ]
     },
     "metadata": {},
     "output_type": "display_data"
    },
    {
     "data": {
      "text/latex": [
       "$$ \\hat{K} = \\frac{\\hat{\\overline{Y}}}{\\hat{\\overline{X}}}=\\frac{54.846}{3.084} = 17.786  $$"
      ],
      "text/plain": [
       "<IPython.core.display.Latex object>"
      ]
     },
     "metadata": {},
     "output_type": "display_data"
    }
   ],
   "source": [
    "yx_m = np.mean(yx,axis=1)\n",
    "display(mdLabelNumber(\"\\\\hat{\\\\overline{Y}}= \\\\frac{1}{n}\\\\sum_{i=1}^{n} \\\\eta_i\", yx_m[0]))\n",
    "display(mdLabelNumber(\"\\\\hat{\\\\overline{X}}= \\\\frac{1}{n}\\\\sum_{i=1}^{n} \\\\xi_i\", yx_m[1]))\n",
    "printMd(\"$$ \\\\hat{K} = \\\\frac{\\\\hat{\\\\overline{Y}}}{\\\\hat{\\\\overline{X}}}=\" f\"\\\\frac{{{\"{:.3f}\".format( yx_m[0])}}}{{{\"{:.3f}\".format( yx_m[1])}}} = {\"{:.3f}\".format( yx_m[0]/yx_m[1])}  $$\")"
   ]
  },
  {
   "cell_type": "markdown",
   "metadata": {},
   "source": [
    "Сформируем величину $z_{выб i} = (i-K*i)$ для расчета дисперсии по выборке\n"
   ]
  },
  {
   "cell_type": "code",
   "execution_count": 40,
   "metadata": {},
   "outputs": [
    {
     "data": {
      "text/latex": [
       "$$\\hat{\\sigma^2}= \\frac{1}{n-1} \\sum_{i=1}^n (\\eta_i - \\hat{K} \\xi_i)^2=   722.0321$$"
      ],
      "text/plain": [
       "<IPython.core.display.Latex object>"
      ]
     },
     "metadata": {},
     "output_type": "display_data"
    }
   ],
   "source": [
    "z = yx[0,:] - yx[1,:] * (yx_m[0] /  yx_m[1])\n",
    "z_d = z.var()\n",
    "display(mdLabelNumber(\"\\\\hat{\\\\sigma^2}= \\\\frac{1}{n-1} \\\\sum_{i=1}^n (\\\\eta_i - \\\\hat{K} \\\\xi_i)^2\", z_d))"
   ]
  },
  {
   "cell_type": "markdown",
   "metadata": {},
   "source": [
    "В. Найти выборочное значение дисперсии оценки среднего совокупности и построить доверительный интервал уровня $\\gamma=0.95$ для среднего с учетом поправки на конечность совокупности. Проверить, накрывает ли интервал действительное значение среднего.\n"
   ]
  },
  {
   "cell_type": "code",
   "execution_count": 41,
   "metadata": {},
   "outputs": [
    {
     "data": {
      "text/latex": [
       "$$\\hat{D}\\hat{\\overline{Z}} = \\frac{\\hat{\\sigma}^2}{n \\hat{\\overline{X}}^2 } \\times \\Big( 1 - \\frac{n}{N} \\Big)=     0.1325$$"
      ],
      "text/plain": [
       "<IPython.core.display.Latex object>"
      ]
     },
     "metadata": {},
     "output_type": "display_data"
    }
   ],
   "source": [
    "\n",
    "z_m_d = z_d / (n * yx_m[1] ** 2) * ( 1 - n/N)\n",
    "display(mdLabelNumber(\"\\\\hat{D}\\\\hat{\\\\overline{Z}} = \\\\frac{\\\\hat{\\\\sigma}^2}{n \\\\hat{\\\\overline{X}}^2 } \\\\times \\\\Big( 1 - \\\\frac{n}{N} \\\\Big)\", z_m_d))"
   ]
  },
  {
   "cell_type": "markdown",
   "metadata": {},
   "source": [
    "Доверительный интервал"
   ]
  },
  {
   "cell_type": "code",
   "execution_count": 42,
   "metadata": {},
   "outputs": [
    {
     "data": {
      "text/latex": [
       "$$(\\hat{K} - z_{1 - \\frac{a}{2}} \\sqrt{\\hat{D}\\hat{K}} ; \\hat{K} + z_{1 - \\frac{a}{2}} \\sqrt{\\hat{D}\\hat{K}})=(17.073 ; 18.500) $$"
      ],
      "text/plain": [
       "<IPython.core.display.Latex object>"
      ]
     },
     "metadata": {},
     "output_type": "display_data"
    }
   ],
   "source": [
    "gamma = 0.95\n",
    "a = 1 - gamma\n",
    "k = yx_m[0]/yx_m[1]\n",
    "k_m_left_bound = k - scipy.stats.norm.ppf(1 - a / 2) * np.pow(z_m_d, 0.5)\n",
    "k_m_right_bound = k + scipy.stats.norm.ppf(1 - a / 2) * np.pow(z_m_d, 0.5)\n",
    "printMd(\"$$(\\\\hat{K} - z_{1 - \\\\frac{a}{2}} \\\\sqrt{\\\\hat{D}\\\\hat{K}} ; \\\\hat{K} + z_{1 - \\\\frac{a}{2}} \\\\sqrt{\\\\hat{D}\\\\hat{K}})=\" + f\"({\"{:.3f}\".format(k_m_left_bound)} ; {\"{:.3f}\".format(k_m_right_bound)}) $$\")"
   ]
  },
  {
   "cell_type": "markdown",
   "metadata": {},
   "source": [
    "– действительное значение попадает в интервал"
   ]
  },
  {
   "cell_type": "markdown",
   "metadata": {},
   "source": [
    "**Задача 7.** Ответить на теоретический вопрос.\n"
   ]
  }
 ],
 "metadata": {
  "kernelspec": {
   "display_name": "Python 3",
   "language": "python",
   "name": "python3"
  },
  "language_info": {
   "codemirror_mode": {
    "name": "ipython",
    "version": 3
   },
   "file_extension": ".py",
   "mimetype": "text/x-python",
   "name": "python",
   "nbconvert_exporter": "python",
   "pygments_lexer": "ipython3",
   "version": "3.12.9"
  }
 },
 "nbformat": 4,
 "nbformat_minor": 2
}
